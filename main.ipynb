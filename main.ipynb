{
 "cells": [
  {
   "cell_type": "code",
   "execution_count": 5,
   "id": "6d64cf26",
   "metadata": {},
   "outputs": [],
   "source": [
    "import numpy as np\n",
    "import pandas as pd\n",
    "from scipy.stats import norm\n",
    "import DeepMed_bin\n",
    "import DeepMed_bin_cv\n",
    "import DeepMed_cont\n",
    "import DeepMed_cont_cv\n",
    "import DeepMed_cv\n",
    "import warnings\n",
    "warnings.filterwarnings(\"ignore\") "
   ]
  },
  {
   "cell_type": "code",
   "execution_count": 6,
   "id": "3b4d95e3",
   "metadata": {},
   "outputs": [
    {
     "name": "stdout",
     "output_type": "stream",
     "text": [
      "odict_keys(['x', 'y', 'd', 'm'])\n"
     ]
    }
   ],
   "source": [
    "import pyreadr\n",
    "result = pyreadr.read_r('../../DeepMed-main/data/example.RData')\n",
    "print(result.keys())\n",
    "x=np.array(result['x'])\n",
    "y=np.array(result['y'])\n",
    "d=np.array(result['d'])\n",
    "m=np.array(result['m'])"
   ]
  },
  {
   "cell_type": "code",
   "execution_count": 7,
   "id": "35828373",
   "metadata": {},
   "outputs": [],
   "source": [
    "def DeepMed(y,d,m,x,method=\"DNN\",hyper_grid=None,epochs=5,batch_size=100,trim=0.05):\n",
    "    if method !=\"Lasso\":\n",
    "        hyper_grid = pd.DataFrame(hyper_grid)\n",
    "        hyper=DeepMed_cv(y,d,m,x,method,hyper_grid,epochs,batch_size)\n",
    "    else:\n",
    "        hyper = np.empty(shape = (2,30))\n",
    "        \n",
    "    mbin = 1*((len(np.unique(m))==2) & (min(m)==0) & (max(m)==1))\n",
    "    if mbin==0:\n",
    "              temp=DeepMed_cont.DeepMed_cont(y,d,m,x,method,hyper,trim)\n",
    "    else:\n",
    "              temp=DeepMed_cont.DeepMed_bin(y,d,m,x,method,hyper,trim)\n",
    "    ATE = np.array(temp)\n",
    "    eff=ATE[0:5]\n",
    "    se=np.sqrt(ATE[5:10]/ATE[10])\n",
    "    results = [eff,se,2*norm.cdf(-abs(eff/se),loc=0,scale=1)]\n",
    "    results = pd.DataFrame(results)\n",
    "    #results= pd.concat([pd.Series(eff), pd.Series(se), pd.Series(2*norm.cdf(-abs(eff/se),loc=0,scale=1))])\n",
    "    results.columns=[\"total\", \"dir.treat\", \"dir.control\", \"indir.treat\", \"indir.control\"]\n",
    "    results.index=[\"effect\",\"se\",\"pval\"]\n",
    "    ntrimmed=len(d)-ATE[10]\n",
    "                       \n",
    "    return results,ntrimmed\n"
   ]
  },
  {
   "cell_type": "code",
   "execution_count": 8,
   "id": "810189dd",
   "metadata": {},
   "outputs": [
    {
     "data": {
      "text/plain": [
       "(               total     dir.treat   dir.control  indir.treat  indir.control\n",
       " effect  1.031567e+00  4.142282e-01  9.661725e-01     0.065394   6.173385e-01\n",
       " se      1.212650e-01  6.350891e-02  1.082719e-01     0.026053   9.424911e-02\n",
       " pval    1.789296e-17  6.920821e-11  4.514566e-19     0.012072   5.750921e-11,\n",
       " 0.0)"
      ]
     },
     "execution_count": 8,
     "metadata": {},
     "output_type": "execute_result"
    }
   ],
   "source": [
    "DeepMed(y,d,m,x,method=\"Lasso\")"
   ]
  },
  {
   "cell_type": "code",
   "execution_count": null,
   "id": "068a43a5",
   "metadata": {},
   "outputs": [],
   "source": []
  }
 ],
 "metadata": {
  "kernelspec": {
   "display_name": "Python 3 (ipykernel)",
   "language": "python",
   "name": "python3"
  },
  "language_info": {
   "codemirror_mode": {
    "name": "ipython",
    "version": 3
   },
   "file_extension": ".py",
   "mimetype": "text/x-python",
   "name": "python",
   "nbconvert_exporter": "python",
   "pygments_lexer": "ipython3",
   "version": "3.9.12"
  }
 },
 "nbformat": 4,
 "nbformat_minor": 5
}
